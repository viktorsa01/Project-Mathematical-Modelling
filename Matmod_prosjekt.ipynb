{
 "cells": [
  {
   "cell_type": "code",
   "execution_count": null,
   "metadata": {},
   "outputs": [],
   "source": [
    "print(\"Hello, World!\")"
   ]
  },
  {
   "cell_type": "markdown",
   "metadata": {},
   "source": [
    "## Oppg 1\n",
    "\n",
    "The factor 4 is a result of spherical geometry. The total flux that hits the earth passes throug a circle of the same radius as the earth. Thus the incoming solar radiation is spread across the surface of the earth, a sphere, which is 4 times as large the circle with the same radius. "
   ]
  }
 ],
 "metadata": {
  "language_info": {
   "name": "python"
  }
 },
 "nbformat": 4,
 "nbformat_minor": 2
}
